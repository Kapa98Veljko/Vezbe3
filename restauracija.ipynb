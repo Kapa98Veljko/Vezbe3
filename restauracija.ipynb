{
 "cells": [
  {
   "cell_type": "code",
   "execution_count": null,
   "id": "1efa5a2c-c0af-43a4-958a-cef5820e31e2",
   "metadata": {},
   "outputs": [],
   "source": [
    "from pylab import *\n",
    "\n",
    "import skimage\n",
    "from skimage import util\n",
    "\n",
    "from scipy import ndimage\n",
    "from skimage import restoration\n",
    "\n",
    "import numpy as np"
   ]
  },
  {
   "cell_type": "code",
   "execution_count": null,
   "id": "e58d6fd8-c8a4-4004-8b67-c24bac2b169f",
   "metadata": {},
   "outputs": [],
   "source": [
    "img = skimage.img_as_float(imread('sekvence/lena.tif'))\n",
    "\n",
    "img_gaus_noise_0p001 = util.random_noise(img, mode='gaussian', mean=0, var=0.001)\n",
    "img_gaus_noise_0p01  = util.random_noise(img, mode='gaussian', mean=0, var=0.01)\n",
    "img_impulse_noise    = util.random_noise(img, mode='s&p', amount=0.2)\n",
    "\n",
    "fig, axes = plt.subplots(nrows=2, ncols=2, figsize=(16,16), dpi=120)\n",
    "ax = axes.ravel()\n",
    "\n",
    "ax[0].imshow(img, cmap='gray'); ax[0].set_axis_off(); ax[0].set_title('Ulazna slika')\n",
    "ax[1].imshow(img_gaus_noise_0p001, cmap='gray'); ax[1].set_axis_off(); ax[1].set_title('Gausov šum - var=0.001')\n",
    "ax[2].imshow(img_gaus_noise_0p01, cmap='gray'); ax[2].set_axis_off(); ax[2].set_title('Gausov šum - var=0.01')\n",
    "ax[3].imshow(img_impulse_noise, cmap='gray'); ax[3].set_axis_off(); ax[3].set_title('Impulsni šum');"
   ]
  },
  {
   "cell_type": "code",
   "execution_count": null,
   "id": "3816adb8-df38-4128-b2b4-72d9d91a4b41",
   "metadata": {},
   "outputs": [],
   "source": [
    "img = skimage.img_as_float(imread('sekvence/lena.tif'))\n",
    "\n",
    "noise_var = 0.01\n",
    "img_noise = util.random_noise(img, 'gaussian', var=noise_var)\n",
    "\n",
    "filt_avg = ones([7,7])/(7**2)\n",
    "\n",
    "img_local_avg = ndimage.correlate(img_noise, filt_avg)\n",
    "img_sqr_local_avg = ndimage.correlate(img_noise**2, filt_avg)\n",
    "\n",
    "img_local_var = img_sqr_local_avg - img_local_avg**2\n",
    "\n",
    "weight = noise_var/img_local_var\n",
    "weight[weight>1]=1\n",
    "\n",
    "img_est = img_noise + weight*(img_local_avg-img_noise)\n",
    "\n",
    "fig, axes = plt.subplots(nrows=2, ncols=2, figsize=(16,16), dpi=120)\n",
    "ax = axes.ravel()\n",
    "\n",
    "ax[0].imshow(img_noise, cmap='gray'); ax[0].set_axis_off(); ax[0].set_title('Ulazna slika')\n",
    "ax[1].imshow(img_local_avg, cmap='gray'); ax[1].set_axis_off(); ax[1].set_title('Usrednjena slika - filtar 7x7')\n",
    "ax[2].imshow(weight, cmap='gray'); ax[2].set_axis_off(); ax[2].set_title('Mapa težina')\n",
    "ax[3].imshow(img_est, cmap='gray'); ax[3].set_axis_off(); ax[3].set_title('Izlaz nakon adaptivnog usrednjavanja');"
   ]
  },
  {
   "cell_type": "code",
   "execution_count": null,
   "id": "fe0c53c2-7e65-48ab-b5dc-833c158dc322",
   "metadata": {},
   "outputs": [],
   "source": [
    "img = skimage.img_as_float(imread('sekvence/road_blur.tif'))\n",
    "\n",
    "plt.figure(figsize=(8,8), dpi=120); imshow(img, cmap='gray');"
   ]
  },
  {
   "cell_type": "code",
   "execution_count": null,
   "id": "f57219c0-21a4-42c8-aaf8-a2b87e20a7b3",
   "metadata": {},
   "outputs": [],
   "source": [
    "import scipy.io\n",
    "\n",
    "DATA = scipy.io.loadmat('sekvence/h_blur.mat')\n",
    "H_blur = DATA['H_blur']\n",
    "\n",
    "plt.figure(figsize=(8,8), dpi=120); imshow(H_blur, cmap='gray');"
   ]
  },
  {
   "cell_type": "code",
   "execution_count": null,
   "id": "ebfdae4a-8eaf-467d-b4d2-0bfdf75c7a95",
   "metadata": {},
   "outputs": [],
   "source": [
    "img_fft = fftshift(fft2(img))\n",
    "\n",
    "img_fft_est = img_fft/H_blur\n",
    "\n",
    "plt.figure(figsize=(8,8), dpi=120); imshow(log(1+abs(img_fft_est)), cmap='gray');"
   ]
  },
  {
   "cell_type": "code",
   "execution_count": null,
   "id": "86eb4eac-8d90-4f23-a039-7f6f9f01de29",
   "metadata": {},
   "outputs": [],
   "source": [
    "def lpfilter(filt_type, Ny, Nx, sigma, n=1):\n",
    "    \n",
    "    if (Ny%2 == 0):\n",
    "        y = np.arange(0,Ny) - Ny/2 + 0.5\n",
    "    else:\n",
    "        y = np.arange(0,Ny) - (Ny-1)/2\n",
    "    \n",
    "    if (Nx%2 == 0):\n",
    "        x = np.arange(0,Nx) - Nx/2 + 0.5\n",
    "    else:\n",
    "        x = np.arange(0,Nx) - (Nx-1)/2\n",
    "\n",
    "    \n",
    "    X, Y = meshgrid(x, y)\n",
    "    \n",
    "    D = np.sqrt(np.square(X) + np.square(Y))\n",
    "    \n",
    "    if filt_type == 'gaussian':\n",
    "        filter_mask = exp(-np.square(D)/(2*np.square(sigma)))\n",
    "    elif filt_type == 'btw':\n",
    "        filter_mask = 1/(1+(D/sigma)**(2*n))\n",
    "    elif filt_type == 'ideal':\n",
    "        filter_mask = ones([Ny, Nx])\n",
    "        filter_mask[D>sigma] = 0\n",
    "    else:\n",
    "        print('Greška! Nije podržan tip filtra: ', filt_type)\n",
    "        return\n",
    "    \n",
    "    return filter_mask"
   ]
  },
  {
   "cell_type": "code",
   "execution_count": null,
   "id": "fdb1b7bb-736d-4a14-8a45-032b59a1a2fd",
   "metadata": {},
   "outputs": [],
   "source": [
    "[Ny, Nx] = shape(img)\n",
    "lp_filt_freq = lpfilter('ideal', Ny, Nx, 130)\n",
    "\n",
    "img_fft_est_filt = (img_fft/H_blur)*lp_filt_freq\n",
    "\n",
    "img_est = real(ifft2(ifftshift(img_fft_est_filt)))\n",
    "img_est = np.clip(img_est, 0, 1)\n",
    "\n",
    "fig, axes = plt.subplots(nrows=2, ncols=2, figsize=(16,16), dpi=120)\n",
    "ax = axes.ravel()\n",
    "\n",
    "ax[0].imshow(img, cmap='gray'); ax[0].set_axis_off(); ax[0].set_title('Ulazna slika')\n",
    "ax[1].imshow(log(1+abs(img_fft_est)), cmap='gray'); ax[1].set_axis_off(); ax[1].set_title('Spektar nakon inverznog filtriranja')\n",
    "ax[2].imshow(log(1+abs(img_fft_est_filt)), cmap='gray'); ax[2].set_axis_off(); ax[2].set_title('Spektar nakon ograničenja opsega')\n",
    "ax[3].imshow(img_est, cmap='gray'); ax[3].set_axis_off(); ax[3].set_title('Estimirani izlaz');"
   ]
  },
  {
   "cell_type": "code",
   "execution_count": null,
   "id": "f1cb5a1f-6866-486e-9cea-6f7b59816e08",
   "metadata": {},
   "outputs": [],
   "source": [
    "img = skimage.img_as_float(imread('sekvence/road_blur.tif'))\n",
    "[Ny, Nx] = shape(img)\n",
    "\n",
    "img_fft = fftshift(fft2(img))\n",
    "\n",
    "k = 1e-4\n",
    "W = (abs(H_blur)**2)/(abs(H_blur)**2 + k)\n",
    "\n",
    "img_fft_est_filt = (img_fft/H_blur)*W\n",
    "\n",
    "img_est = real(ifft2(ifftshift(img_fft_est_filt)))\n",
    "img_est = np.clip(img_est, 0, 1)\n",
    "\n",
    "fig, axes = plt.subplots(nrows=2, ncols=2, figsize=(16,16), dpi=120)\n",
    "ax = axes.ravel()\n",
    "\n",
    "ax[0].imshow(img, cmap='gray'); ax[0].set_axis_off(); ax[0].set_title('Ulazna slika')\n",
    "ax[1].imshow(log(1+abs(img_fft_est)), cmap='gray'); ax[1].set_axis_off(); ax[1].set_title('Spektar nakon inverznog filtriranja')\n",
    "ax[2].imshow(log(1+abs(img_fft_est_filt)), cmap='gray'); ax[2].set_axis_off(); ax[2].set_title('Spektar nakon Vinerovog filtra')\n",
    "ax[3].imshow(img_est, cmap='gray'); ax[3].set_axis_off(); ax[3].set_title('Estimirani izlaz');"
   ]
  },
  {
   "cell_type": "code",
   "execution_count": null,
   "id": "ec834de4-270a-4d4d-8df1-0dd34ea60435",
   "metadata": {},
   "outputs": [],
   "source": [
    "img = skimage.img_as_float(imread('sekvence/road_motion.tif'))\n",
    "\n",
    "DATA = scipy.io.loadmat('sekvence/h_motion.mat')\n",
    "H_motion = DATA['H_motion']\n",
    "\n",
    "\n",
    "fig, axes = plt.subplots(nrows=1, ncols=2, figsize=(16,8), dpi=120)\n",
    "ax = axes.ravel()\n",
    "\n",
    "ax[0].imshow(img, cmap='gray'); ax[0].set_title('Ulazna slika')\n",
    "ax[1].imshow(abs(H_motion), cmap='gray'); ax[1].set_title('Spektar degradacione funkcije');"
   ]
  },
  {
   "cell_type": "code",
   "execution_count": null,
   "id": "d8160eb0-b9a1-4cd4-8c8b-8f86c8c39168",
   "metadata": {},
   "outputs": [],
   "source": [
    "img_fft = fftshift(fft2(img))\n",
    "\n",
    "k = 1e-4\n",
    "W = (abs(H_motion)**2)/(abs(H_motion)**2 + k)\n",
    "\n",
    "img_fft_est = (img_fft/H_motion)*W\n",
    "\n",
    "img_est = real(ifft2(ifftshift(img_fft_est)))\n",
    "img_est = np.clip(img_est, 0, 1)\n",
    "\n",
    "fig, axes = plt.subplots(nrows=2, ncols=2, figsize=(16,16), dpi=120)\n",
    "ax = axes.ravel()\n",
    "\n",
    "ax[0].imshow(img, cmap='gray'); ax[0].set_axis_off(); ax[0].set_title('Ulazna slika')\n",
    "ax[1].imshow(abs(H_motion), cmap='gray'); ax[1].set_axis_off(); ax[1].set_title('Spektar degradacione funkcije')\n",
    "ax[2].imshow(log(1+abs(img_fft_est)), cmap='gray'); ax[2].set_axis_off(); ax[2].set_title('Spektar nakon Vinerovog filtra')\n",
    "ax[3].imshow(img_est, cmap='gray'); ax[3].set_axis_off(); ax[3].set_title('Estimirani izlaz');"
   ]
  },
  {
   "cell_type": "code",
   "execution_count": null,
   "id": "71365363-38d2-48d5-a467-9ca0f32e915f",
   "metadata": {},
   "outputs": [],
   "source": []
  }
 ],
 "metadata": {
  "kernelspec": {
   "display_name": "Python 3 (ipykernel)",
   "language": "python",
   "name": "python3"
  },
  "language_info": {
   "codemirror_mode": {
    "name": "ipython",
    "version": 3
   },
   "file_extension": ".py",
   "mimetype": "text/x-python",
   "name": "python",
   "nbconvert_exporter": "python",
   "pygments_lexer": "ipython3",
   "version": "3.8.12"
  }
 },
 "nbformat": 4,
 "nbformat_minor": 5
}
