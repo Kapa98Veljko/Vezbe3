{
 "cells": [
  {
   "cell_type": "code",
   "execution_count": null,
   "id": "f7cfaba0-05ef-4a1f-9ea4-ccdb1aa1a3e9",
   "metadata": {},
   "outputs": [],
   "source": [
    "from pylab import *\n",
    "\n",
    "import skimage\n",
    "from skimage import io\n",
    "\n",
    "import numpy as np"
   ]
  },
  {
   "cell_type": "code",
   "execution_count": null,
   "id": "2b75b134-0b6b-4413-b918-92d5bfc7cb4e",
   "metadata": {},
   "outputs": [],
   "source": [
    "Nx = 200; Ny = 200\n",
    "\n",
    "x = list(range(0,Nx))\n",
    "y = list(range(0,Ny))\n",
    "\n",
    "X, Y = meshgrid(x, y)\n",
    "\n",
    "Tx1 = Nx/4\n",
    "f1 = cos(2*pi*X/Tx1)\n",
    "\n",
    "Ty2 = Ny/2\n",
    "f2 = cos(2*pi*Y/Ty2)\n",
    "\n",
    "Tx3 = Nx/2; Ty3 = Ny/8\n",
    "f3 = cos(2*pi*X/Tx3 + 2*pi*Y/Ty3)\n",
    "\n",
    "Tx4 = Nx/4; Ty4 = Ny/4\n",
    "f4 = cos(2*pi*X/Tx4 + 2*pi*Y/Ty4)\n",
    "\n",
    "f5 = cos(8*pi*X/Nx) + cos(8*pi*Y/Ny)\n",
    "f6 = cos(14*pi*Y/Ny + 4*pi*X/Nx) + cos(6*pi*Y/Ny + 20*pi*X/Nx)\n",
    "\n",
    "fig, axes = plt.subplots(nrows=2, ncols=3, figsize=(16,8), dpi=120)\n",
    "ax = axes.ravel()\n",
    "\n",
    "ax[0].imshow(f1, cmap='gray'); ax[0].set_title('f1', fontsize=16)\n",
    "ax[1].imshow(f2, cmap='gray'); ax[1].set_title('f2', fontsize=16)\n",
    "ax[2].imshow(f3, cmap='gray'); ax[2].set_title('f3', fontsize=16)\n",
    "ax[3].imshow(f4, cmap='gray'); ax[3].set_title('f4', fontsize=16)\n",
    "ax[4].imshow(f5, cmap='gray'); ax[4].set_title('f5', fontsize=16)\n",
    "ax[5].imshow(f6, cmap='gray'); ax[5].set_title('f6', fontsize=16)\n",
    "\n",
    "plt.tight_layout()\n",
    "plt.show()"
   ]
  },
  {
   "cell_type": "code",
   "execution_count": null,
   "id": "34d989bf-f41b-40bd-8bc9-a74bf2fe189a",
   "metadata": {},
   "outputs": [],
   "source": [
    "img = imread('sekvence/stripe.png')\n",
    "\n",
    "img_fft = fft2(img)\n",
    "\n",
    "fig, axes = plt.subplots(nrows=1, ncols=3, figsize=(24,8), dpi=120)\n",
    "ax = axes.ravel()\n",
    "\n",
    "ax[0].imshow(img, cmap='gray'); ax[0].set_axis_off(); ax[0].set_title('Ulazna slika', fontsize=16)\n",
    "ax[1].imshow(abs(img_fft), cmap='gray'); ax[1].set_axis_off(); ax[1].set_title('Magnituda spektra', fontsize=16)\n",
    "\n",
    "img_fft_center = fftshift(img_fft)\n",
    "ax[2].imshow(abs(img_fft_center), cmap='gray'); ax[2].set_axis_off(); ax[2].set_title('Magnituda centriranog spektra', fontsize=16);"
   ]
  },
  {
   "cell_type": "code",
   "execution_count": null,
   "id": "58821b45-ed8d-43fa-b171-385a454f9032",
   "metadata": {},
   "outputs": [],
   "source": [
    "x = np.arange(0,shape(img)[0],1)\n",
    "y = np.arange(0,shape(img)[1],1)\n",
    "\n",
    "X, Y = meshgrid(x, y)\n",
    "\n",
    "from mpl_toolkits.mplot3d import Axes3D\n",
    "fig = plt.figure(figsize=(16,16), dpi=120)\n",
    "ax = plt.axes(projection='3d')\n",
    "ax.contour3D(X, Y, abs(img_fft_center), 100, cmap = 'jet');"
   ]
  },
  {
   "cell_type": "code",
   "execution_count": null,
   "id": "9c46837b-e12a-42f6-be97-36f1484a76d3",
   "metadata": {},
   "outputs": [],
   "source": [
    "img = imread('sekvence/rect.png')\n",
    "\n",
    "img_fft = fftshift(fft2(img))\n",
    "\n",
    "fig, axes = plt.subplots(nrows=2, ncols=2, figsize=(16,16), dpi=120)\n",
    "ax = axes.ravel()\n",
    "\n",
    "ax[0].imshow(img, cmap='gray'); ax[0].set_axis_off(); ax[0].set_title('Ulazna slika', fontsize=16)\n",
    "ax[1].imshow(abs(img_fft), cmap='gray'); ax[1].set_axis_off(); ax[1].set_title('Magnituda centriranog spektra', fontsize=16)\n",
    "ax[2].imshow(np.angle(img_fft), cmap='gray'); ax[2].set_axis_off(); ax[2].set_title('Fazna karakteristika', fontsize=16)\n",
    "ax[3].imshow(log(1+abs(img_fft)), cmap='gray'); ax[3].set_axis_off(); ax[3].set_title('Magnituda spektra (log domen)', fontsize=16)\n",
    "\n",
    "print(max(abs(img_fft).flatten()))\n",
    "print(min(abs(img_fft).flatten()))"
   ]
  },
  {
   "cell_type": "code",
   "execution_count": null,
   "id": "20db8244-7d5c-4b8d-8ee4-e76f766363ee",
   "metadata": {},
   "outputs": [],
   "source": [
    "fig = plt.figure(figsize=(16,16), dpi=120)\n",
    "ax = plt.axes(projection='3d')\n",
    "ax.contour3D(X, Y, abs(img_fft), 100, cmap = 'jet');"
   ]
  },
  {
   "cell_type": "code",
   "execution_count": null,
   "id": "ca17e279-9248-471f-b3e9-92c9b81f827b",
   "metadata": {},
   "outputs": [],
   "source": [
    "img = imread('sekvence/rect.png')\n",
    "img_fft = fftshift(fft2(img))\n",
    "\n",
    "img_trans = imread('sekvence/rect_translated.png')\n",
    "img_trans_fft = fftshift(fft2(img_trans))\n",
    "\n",
    "img_rot = imread('sekvence/rect_rotated.png')\n",
    "img_rot_fft = fftshift(fft2(img_rot))\n",
    "\n",
    "fig, axes = plt.subplots(nrows=3, ncols=3, figsize=(8,8), dpi=120)\n",
    "ax = axes.ravel()\n",
    "\n",
    "ax[0].imshow(img, cmap='gray');             ax[0].set_axis_off(); ax[0].set_title('Ulazna slika')\n",
    "ax[1].imshow(log(1+abs(img_fft)), cmap='gray'); ax[1].set_axis_off(); ax[1].set_title('Magnituda spektra')\n",
    "ax[2].imshow(np.angle(img_fft), cmap='gray');   ax[2].set_axis_off(); ax[2].set_title('Fazna karakteristika')\n",
    "\n",
    "ax[3].imshow(img_trans, cmap='gray');             ax[3].set_axis_off();\n",
    "ax[4].imshow(log(1+abs(img_trans_fft)), cmap='gray'); ax[4].set_axis_off();\n",
    "ax[5].imshow(np.angle(img_trans_fft), cmap='gray');   ax[5].set_axis_off();\n",
    "\n",
    "ax[6].imshow(img_rot, cmap='gray');             ax[6].set_axis_off();\n",
    "ax[7].imshow(log(1+abs(img_rot_fft)), cmap='gray'); ax[7].set_axis_off();\n",
    "ax[8].imshow(np.angle(img_rot_fft), cmap='gray');   ax[8].set_axis_off();"
   ]
  },
  {
   "cell_type": "code",
   "execution_count": null,
   "id": "7a329362-4093-4f32-9965-2863914f2fcd",
   "metadata": {},
   "outputs": [],
   "source": [
    "img = skimage.img_as_float(imread('sekvence/lena.tif'))\n",
    "\n",
    "img_fft = fftshift(fft2(img))\n",
    "\n",
    "img_fft_mag = abs(img_fft)\n",
    "img_fft_ang = np.angle(img_fft)\n",
    "\n",
    "img_mag_only = real(ifft2(ifftshift(img_fft_mag)))\n",
    "img_ang_only = real(ifft2(ifftshift((img_fft/img_fft_mag))))\n",
    "\n",
    "figure(); imshow(img, cmap='gray'); gca().axis('off'); gca().set_title('Ulazna slika')\n",
    "\n",
    "fig, axes = plt.subplots(nrows=2, ncols=2, figsize=(8,8), dpi=120)\n",
    "ax = axes.ravel()\n",
    "\n",
    "ax[0].imshow(log(1+img_fft_mag), cmap='gray'); ax[0].set_axis_off(); ax[0].set_title('Magnituda spektra')\n",
    "ax[1].imshow(img_fft_ang, cmap='gray');        ax[1].set_axis_off(); ax[1].set_title('Fazna karakteristika')\n",
    "ax[2].imshow(img_mag_only, cmap='gray');       ax[2].set_axis_off(); ax[2].set_title('Rekonstrukcija (samo magnituda)')\n",
    "ax[3].imshow(img_ang_only, cmap='gray');       ax[3].set_axis_off(); ax[3].set_title('Rekonstrukcija (samo faza)');"
   ]
  },
  {
   "cell_type": "code",
   "execution_count": null,
   "id": "d1ba5021-917d-454b-9cd6-0afc27101b95",
   "metadata": {},
   "outputs": [],
   "source": [
    "[height, width] = shape(img)\n",
    "\n",
    "img_p = zeros([2*height, 2*width])\n",
    "\n",
    "img_p[0:height, 0:width] = img\n",
    "img_p_fft = fftshift(fft2(img_p))\n",
    "\n",
    "fig, axes = plt.subplots(nrows=1, ncols=2, figsize=(16,8), dpi=120)\n",
    "ax = axes.ravel()\n",
    "\n",
    "ax[0].imshow(img_p, cmap='gray'); ax[0].set_axis_off(); ax[0].set_title('Slika proširena nulama')\n",
    "ax[1].imshow(log(1+abs(img_p_fft)), cmap='gray'); ax[1].set_axis_off(); ax[1].set_title('Magnituda spektra proširene slike');\n",
    "\n",
    "diff = abs(img_p_fft[0::2, 0::2] - img_fft)\n",
    "print(max(diff.flatten()))"
   ]
  },
  {
   "cell_type": "code",
   "execution_count": null,
   "id": "12e56dc3-cd37-4e8b-ad6e-dfb5877a22fc",
   "metadata": {},
   "outputs": [],
   "source": [
    "img_2x = zeros([2*height, 2*width])\n",
    "\n",
    "img_2x[0::2,0::2] = img\n",
    "img_2x_fft = fft2(img_2x)\n",
    "\n",
    "fig, axes = plt.subplots(nrows=1, ncols=2, figsize=(16,8), dpi=120)\n",
    "ax = axes.ravel()\n",
    "\n",
    "ax[0].imshow(img_2x, cmap='gray'); ax[0].set_axis_off(); ax[0].set_title('Slika sa umetnutim nulama')\n",
    "ax[1].imshow(log(1+abs(fftshift(img_2x_fft))), cmap='gray'); ax[1].set_axis_off(); ax[1].set_title('Spekar slike sa umetnutim nulama');\n",
    "\n",
    "diff = abs(fftshift(img_2x_fft[0:height,0:width]) - img_fft)\n",
    "print(max(diff.flatten()))"
   ]
  },
  {
   "cell_type": "code",
   "execution_count": null,
   "id": "f6b7f6f3-6415-4eab-b7fd-9b9c17f201cf",
   "metadata": {},
   "outputs": [],
   "source": []
  }
 ],
 "metadata": {
  "kernelspec": {
   "display_name": "Python 3 (ipykernel)",
   "language": "python",
   "name": "python3"
  },
  "language_info": {
   "codemirror_mode": {
    "name": "ipython",
    "version": 3
   },
   "file_extension": ".py",
   "mimetype": "text/x-python",
   "name": "python",
   "nbconvert_exporter": "python",
   "pygments_lexer": "ipython3",
   "version": "3.8.12"
  }
 },
 "nbformat": 4,
 "nbformat_minor": 5
}
